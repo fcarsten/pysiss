{
 "metadata": {
  "name": "",
  "signature": "sha256:6fe06b3e44a56ab1a2a893d8d18f99976e30dadd1feeda8f097f29c4d99ef39a"
 },
 "nbformat": 3,
 "nbformat_minor": 0,
 "worksheets": [
  {
   "cells": [
    {
     "cell_type": "code",
     "collapsed": false,
     "input": [
      "import simplejson, urllib, os, textwrap\n",
      "from bs4 import BeautifulSoup\n",
      "\n",
      "from pysiss.vocabulary.lithologies.composition import EarthChemQuery"
     ],
     "language": "python",
     "metadata": {},
     "outputs": []
    },
    {
     "cell_type": "code",
     "collapsed": false,
     "input": [
      "query = EarthChemQuery(keyword='basalt', author='barnes')"
     ],
     "language": "python",
     "metadata": {},
     "outputs": []
    },
    {
     "cell_type": "code",
     "collapsed": false,
     "input": [
      "query.url"
     ],
     "language": "python",
     "metadata": {},
     "outputs": []
    },
    {
     "cell_type": "code",
     "collapsed": false,
     "input": [],
     "language": "python",
     "metadata": {},
     "outputs": []
    }
   ],
   "metadata": {}
  }
 ]
}