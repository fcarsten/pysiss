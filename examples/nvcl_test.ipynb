{
 "metadata": {
  "name": "",
  "signature": "sha256:1576050c884d64ee52bd29e388107b87c228e11b7a2a869c8f58197cc7c23acd"
 },
 "nbformat": 3,
 "nbformat_minor": 0,
 "worksheets": [
  {
   "cells": [
    {
     "cell_type": "code",
     "collapsed": false,
     "input": [
      "%pylab inline\n",
      "\n",
      "import pyboreholes as pybh\n",
      "import pyboreholes.importers.nvcl as nvcl"
     ],
     "language": "python",
     "metadata": {},
     "outputs": [
      {
       "output_type": "stream",
       "stream": "stdout",
       "text": [
        "Populating the interactive namespace from numpy and matplotlib\n"
       ]
      }
     ],
     "prompt_number": 13
    },
    {
     "cell_type": "code",
     "collapsed": false,
     "input": [
      "registry = nvcl.NVCLEndpointRegistry()\n",
      "registry.keys()"
     ],
     "language": "python",
     "metadata": {},
     "outputs": [
      {
       "metadata": {},
       "output_type": "pyout",
       "prompt_number": 14,
       "text": [
        "['NTGS', 'MRT', 'GSWA', 'PIRSA', 'DPINSW', 'CSIRO']"
       ]
      }
     ],
     "prompt_number": 14
    },
    {
     "cell_type": "code",
     "collapsed": false,
     "input": [
      "registry['CSIRO']"
     ],
     "language": "python",
     "metadata": {},
     "outputs": [
      {
       "metadata": {},
       "output_type": "pyout",
       "prompt_number": 17,
       "text": [
        "{'dataurl': 'http://nvclwebservices.vm.csiro.au/NVCLDataServices/',\n",
        " 'downloadurl': 'http://nvclwebservices.vm.csiro.au/NVCLDownloadServices/',\n",
        " 'wfsurl': 'http://nvclwebservices.vm.csiro.au/geoserverBH/wfs'}"
       ]
      }
     ],
     "prompt_number": 17
    },
    {
     "cell_type": "code",
     "collapsed": false,
     "input": [
      "importer = nvcl.NVCLImporter('CSIRO')"
     ],
     "language": "python",
     "metadata": {},
     "outputs": [],
     "prompt_number": 18
    },
    {
     "cell_type": "code",
     "collapsed": false,
     "input": [
      "importer.__dict__"
     ],
     "language": "python",
     "metadata": {},
     "outputs": [
      {
       "metadata": {},
       "output_type": "pyout",
       "prompt_number": 22,
       "text": [
        "{'bh_generator': <pyboreholes.siss_borehole_generator.SISSBoreholeGenerator instance at 0x7fdb65364830>,\n",
        " 'endpoint': 'CSIRO',\n",
        " 'urls': {'dataurl': 'http://nvclwebservices.vm.csiro.au/NVCLDataServices/',\n",
        "  'downloadurl': 'http://nvclwebservices.vm.csiro.au/NVCLDownloadServices/',\n",
        "  'wfsurl': 'http://nvclwebservices.vm.csiro.au/geoserverBH/wfs'}}"
       ]
      }
     ],
     "prompt_number": 22
    },
    {
     "cell_type": "code",
     "collapsed": false,
     "input": [
      "importer.get_borehole_ids()"
     ],
     "language": "python",
     "metadata": {},
     "outputs": []
    },
    {
     "cell_type": "code",
     "collapsed": false,
     "input": [],
     "language": "python",
     "metadata": {},
     "outputs": []
    }
   ],
   "metadata": {}
  }
 ]
}