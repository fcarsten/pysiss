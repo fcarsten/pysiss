{
 "metadata": {
  "name": "",
  "signature": "sha256:c2f8f10e9afd4b9921f545a103c18218e951f931394ab81a4c1e49a4091bfce6"
 },
 "nbformat": 3,
 "nbformat_minor": 0,
 "worksheets": [
  {
   "cells": [
    {
     "cell_type": "code",
     "collapsed": false,
     "input": [
      "%pylab inline\n",
      "\n",
      "import owslib, fiona, shapely\n",
      "from shapely.geometry import mapping, shape"
     ],
     "language": "python",
     "metadata": {},
     "outputs": []
    },
    {
     "cell_type": "code",
     "collapsed": false,
     "input": [
      "from owslib.wfs import WebFeatureService\n",
      "\n",
      "# East Australian geology\n",
      "wfsurl_template = http://www.ga.gov.au/geows/geologicunits/oneg_east_aus_1m/wfs?request=GetCapabilities&service=wfs&version=1.1.0\n",
      "wfsurl_template = (\"http://www.ga.gov.au/geows/{0}\"\n",
      "                   \"/oneg_east_aus_1m/wfs?request=GetCapabilities&service=wfs&version=1.1.0\")\n",
      "geologic_objects = ('contacts', 'faults', 'geologicunits', 'sheardisplacementstructures')\n",
      "\n",
      "# # West Australian geology at 1:1 M scale\n",
      "# wfsurl_template = (\"http://www.ga.gov.au/geows/{0}\"\n",
      "#                    \"/oneg_wa_1m/wfs?request=GetCapabilities&service=wfs&version=1.1.0\")\n",
      "# geologic_objects = ('contacts', 'faults', 'geologicunits')\n",
      "\n",
      "# Load objects from GA webservices\n",
      "geology = {}\n",
      "for obj in geologic_objects:\n",
      "    geology[obj] = WebFeatureService(wfsurl_template.format(obj), version='1.1.0')"
     ],
     "language": "python",
     "metadata": {},
     "outputs": []
    },
    {
     "cell_type": "code",
     "collapsed": false,
     "input": [
      "geology['geologicunits']"
     ],
     "language": "python",
     "metadata": {},
     "outputs": []
    },
    {
     "cell_type": "code",
     "collapsed": false,
     "input": [
      "geology['faults'].contents"
     ],
     "language": "python",
     "metadata": {},
     "outputs": []
    },
    {
     "cell_type": "code",
     "collapsed": false,
     "input": [
      "faults.getfeature('gsml:Fault', outputFormat='text/xml').read()"
     ],
     "language": "python",
     "metadata": {},
     "outputs": []
    },
    {
     "cell_type": "code",
     "collapsed": false,
     "input": [
      "wfsurl = \"http://www.ga.gov.au/gis/services/earth_science/Geomorphology_Landform_Type_WM/MapServer/WFSServer?request=GetCapabilities&service=WFS\"\n",
      "\n",
      "geology = WebFeatureService(wfsurl, version='1.1.0')\n",
      "geology.contents"
     ],
     "language": "python",
     "metadata": {},
     "outputs": []
    },
    {
     "cell_type": "code",
     "collapsed": false,
     "input": [
      "feature = geology.getfeature('earth_science_Geomorphology_Landform_Type_WM:Landform_Type_Surface_Geology_Reclassified_25K')"
     ],
     "language": "python",
     "metadata": {},
     "outputs": []
    },
    {
     "cell_type": "code",
     "collapsed": false,
     "input": [
      "import textwrap\n",
      "import requests\n",
      "\n",
      "# West Australian geology\n",
      "wfsurl_template = (\"http://www.ga.gov.au/geows/{0}\"\n",
      "                   \"/oneg_wa_1m/wfs?request=GetCapabilities&service=wfs&version=1.1.0\")\n",
      "geologic_objects = ('contacts', 'faults', 'geologicunits')\n",
      "\n",
      "# Post request body\n",
      "request_template = textwrap.dedent(\"\"\"\\\n",
      "    <?xml version=\"1.0\" encoding=\"utf-8\"?>\n",
      "    <wfs:GetFeature\n",
      "     xmlns:wfs=\"http://www.opengis.net/wfs\"\n",
      "     xmlns:ogc=\"http://www.opengis.net/ogc\"\n",
      "     xmlns:gml=\"http://www.opengis.net/gml\"\n",
      "     xmlns:sa=\"http://www.opengis.net/sampling/1.0\"\n",
      "     maxFeatures=\"{max_features}\" service=\"WFS\"\n",
      "     version=\"1.1.0\" xmlns:gsml=\"urn:cgi:xmlns:CGI:GeoSciML:2.0\">\n",
      "       <wfs:Query typeName=\"gsml:MappedFeature\">\n",
      "         <ogc:Filter xmlns:ogc=\"http://www.opengis.net/ogc\">\n",
      "           <ogc:BBOX>\n",
      "             <ogc:PropertyName>gsml:shape</ogc:PropertyName>\n",
      "             <gml:Envelope srsName=\"EPSG:4326\">\n",
      "               <gml:lowerCorner>{lower_corner[0]}, {lower_corner[1]}</gml:lowerCorner>\n",
      "               <gml:upperCorner>{upper_corner[0]}, {upper_corner[1]}</gml:upperCorner>\n",
      "             </gml:Envelope>\n",
      "           </ogc:BBOX>\n",
      "         </ogc:Filter>\n",
      "       </wfs:Query>\n",
      "    </wfs:GetFeature>\n",
      "\"\"\")"
     ],
     "language": "python",
     "metadata": {},
     "outputs": []
    },
    {
     "cell_type": "code",
     "collapsed": false,
     "input": [
      "# Post to WFS\n",
      "params = dict(\n",
      "    lower_corner = (120.75, -24.5),\n",
      "    upper_corner = (121.75, -23.5),\n",
      "    max_features = 15)\n",
      "response = requests.post(\n",
      "    url=wfsurl_template.format('geologicunits'),\n",
      "    data=request_template.format(**params))"
     ],
     "language": "python",
     "metadata": {},
     "outputs": []
    },
    {
     "cell_type": "code",
     "collapsed": false,
     "input": [
      "import lxml\n",
      "\n",
      "# Parse GeoSciML in response body\n",
      "if response.ok:\n",
      "    with open('response.gsml', 'wb') as fhandle:\n",
      "        fhandle.write(response.content)"
     ],
     "language": "python",
     "metadata": {},
     "outputs": []
    },
    {
     "cell_type": "code",
     "collapsed": false,
     "input": [
      "with open('response.gsml', 'rb') as fhandle:\n",
      "    print fhandle.read()"
     ],
     "language": "python",
     "metadata": {},
     "outputs": []
    }
   ],
   "metadata": {}
  }
 ]
}