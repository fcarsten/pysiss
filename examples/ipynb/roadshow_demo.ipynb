{
 "metadata": {
  "celltoolbar": "Slideshow",
  "name": "",
  "signature": "sha256:b0e091c0cd98b391fb2bd811568a7bfd33030d4babdd28fa8710b42740799457"
 },
 "nbformat": 3,
 "nbformat_minor": 0,
 "worksheets": [
  {
   "cells": [
    {
     "cell_type": "markdown",
     "metadata": {},
     "outputs": [],
     "source": [
      "# pySISS\n",
      "\n",
      "Jess Robertson\n",
      "\n",
      "_CSIRO Mineral Resources National Research Flagship_\n",
      "\n",
      "AuScope Roadshow, September 2014\n",
      "\n",
      "Want this notebook? Check out [github.com/pysiss/pysiss-cookbook](http://github.com/pysiss/pysiss-cookboook).\n"
     ]
    },
    {
     "cell_type": "code",
     "collapsed": false,
     "input": [
      "%run talktools"
     ],
     "language": "python",
     "metadata": {
      "slideshow": {
       "slide_type": "notes"
      }
     },
     "outputs": []
    },
    {
     "cell_type": "markdown",
     "metadata": {
      "slideshow": {
       "slide_type": "slide"
      }
     },
     "outputs": [],
     "source": [
      "## Accessing webservices\n",
      "\n",
      "How do you get the URLs? You can query a Catalogue Service Web (CSW) endpoint, but the easiest way is just to pull it from the AuScope portal."
     ]
    },
    {
     "cell_type": "code",
     "collapsed": false,
     "input": [
      "website('http://portal.auscope.org', 'AuScope Portal', width=1000, height=500)"
     ],
     "language": "python",
     "metadata": {
      "slideshow": {
       "slide_type": "fragment"
      }
     },
     "outputs": []
    },
    {
     "cell_type": "markdown",
     "metadata": {
      "slideshow": {
       "slide_type": "slide"
      }
     },
     "outputs": [],
     "source": [
      "## Accessing webservices\n",
      "\n",
      "Once you've got your endpoint, you can hit it up for some data."
     ]
    },
    {
     "cell_type": "code",
     "collapsed": false,
     "input": [
      "url = 'http://geossdi.dmp.wa.gov.au:80/services/wfs'"
     ],
     "language": "python",
     "metadata": {
      "slideshow": {
       "slide_type": "-"
      }
     },
     "outputs": []
    },
    {
     "cell_type": "markdown",
     "metadata": {
      "slideshow": {
       "slide_type": "fragment"
      }
     },
     "outputs": [],
     "source": [
      "Here we use the requests library to hit the endpoint, but you can use anything you like really..."
     ]
    },
    {
     "cell_type": "code",
     "collapsed": false,
     "input": [
      "import requests\n",
      "\n",
      "# Get data from WA, get me the first 5 gsml:Borehole items\n",
      "params = dict(\n",
      "    service='WFS',\n",
      "    version='1.1.0',\n",
      "    request='GetFeature',\n",
      "    typename='gsml:Borehole',\n",
      "    bbox='-36.669908, 110.630435, -12.685026, 129.614808',\n",
      "    max_features=5\n",
      ")\n",
      "\n",
      "# Construct the request & give me the response\n",
      "response = requests.get(url, params=params)\n",
      "print response.url"
     ],
     "language": "python",
     "metadata": {
      "slideshow": {
       "slide_type": "fragment"
      }
     },
     "outputs": []
    },
    {
     "cell_type": "markdown",
     "metadata": {
      "slideshow": {
       "slide_type": "slide"
      }
     },
     "outputs": [],
     "source": [
      "## Accessing webservices\n",
      "\n",
      "What's the response?"
     ]
    },
    {
     "cell_type": "code",
     "collapsed": false,
     "input": [
      "print response.content"
     ],
     "language": "python",
     "metadata": {
      "slideshow": {
       "slide_type": "fragment"
      }
     },
     "outputs": []
    },
    {
     "cell_type": "markdown",
     "metadata": {
      "slideshow": {
       "slide_type": "slide"
      }
     },
     "outputs": [],
     "source": [
      "## Using OWSLib\n",
      "\n",
      "Most OGC webservices support RESTful queries through the URL like this, but for more complex queries with multiple filters (i.e. not just the bounding box) you might want to use the SOAPy method of posting an XML query to the server. "
     ]
    },
    {
     "cell_type": "markdown",
     "metadata": {
      "slideshow": {
       "slide_type": "fragment"
      }
     },
     "outputs": [],
     "source": [
      "    <?xml version=\"1.0\" encoding=\"utf-8\"?>\n",
      "    <wfs:GetFeature\n",
      "     xmlns:wfs=\"http://www.opengis.net/wfs\"\n",
      "     xmlns:ogc=\"http://www.opengis.net/ogc\"\n",
      "     xmlns:gml=\"http://www.opengis.net/gml\"\n",
      "     xmlns:sa=\"http://www.opengis.net/sampling/1.0\"\n",
      "     maxFeatures=\"{max_features}\" service=\"WFS\"\n",
      "     version=\"1.1.0\" xmlns:gsml=\"urn:cgi:xmlns:CGI:GeoSciML:2.0\">\n",
      "       <wfs:Query typeName=\"gsml:Borehole\">\n",
      "        <ogc:Filter xmlns:ogc=\"http://www.opengis.net/ogc\">\n",
      "           <ogc:BBOX>\n",
      "             <ogc:PropertyName>gsml:shape</ogc:PropertyName>\n",
      "             <gml:Envelope srsName=\"EPSG:4326\">\n",
      "               <gml:lowerCorner>\n",
      "                 {lower_corner[0]}, {lower_corner[1]}\n",
      "               </gml:lowerCorner>\n",
      "               <gml:upperCorner>\n",
      "                 {upper_corner[0]}, {upper_corner[1]}\n",
      "               </gml:upperCorner>\n",
      "             </gml:Envelope>\n",
      "           </ogc:BBOX>\n",
      "         </ogc:Filter>\n",
      "       </wfs:Query>\n",
      "    </wfs:GetFeature>"
     ]
    },
    {
     "cell_type": "code",
     "collapsed": false,
     "input": [],
     "language": "python",
     "metadata": {},
     "outputs": []
    },
    {
     "cell_type": "markdown",
     "metadata": {},
     "outputs": [],
     "source": [
      "OWSLib is a library which makes forming OGC webservice queries much easier"
     ]
    },
    {
     "cell_type": "markdown",
     "metadata": {
      "slideshow": {
       "slide_type": "slide"
      }
     },
     "outputs": [],
     "source": [
      "## Using pySISS"
     ]
    },
    {
     "cell_type": "markdown",
     "metadata": {
      "slideshow": {
       "slide_type": "notes"
      }
     },
     "outputs": [],
     "source": [
      "So we've seen that we can access the webservice endpoints given a URL using owslib, and we get back a bunch of XML in response. OWSLib provides you with a means of interpreting some of the XML formats available, but not GeoSciML, which is the vocabulary standard used to describe geoscientific data. \n",
      "\n",
      "The aim of pySISS is to hide the raw GeoSciML from you and instead provide you with a native Python object containing the relevant data"
     ]
    },
    {
     "cell_type": "code",
     "collapsed": false,
     "input": [],
     "language": "python",
     "metadata": {
      "slideshow": {
       "slide_type": "subslide"
      }
     },
     "outputs": []
    },
    {
     "cell_type": "markdown",
     "metadata": {
      "slideshow": {
       "slide_type": "slide"
      }
     },
     "outputs": [],
     "source": [
      "## Accessing NVCL services"
     ]
    },
    {
     "cell_type": "markdown",
     "metadata": {
      "slideshow": {
       "slide_type": "notes"
      }
     },
     "outputs": [],
     "source": [
      "The next thing we're going to try is to access the NVCL webservices. The functionality to do this sits in the `pysiss.webservices.nvcl` module, so let's go ahead and load that up:"
     ]
    },
    {
     "cell_type": "code",
     "collapsed": false,
     "input": [
      "from pysiss.webservices import nvcl"
     ],
     "language": "python",
     "metadata": {
      "slideshow": {
       "slide_type": "fragment"
      }
     },
     "outputs": []
    },
    {
     "cell_type": "markdown",
     "metadata": {
      "slideshow": {
       "slide_type": "slide"
      }
     },
     "outputs": [],
     "source": [
      "pySISS knows about all the different NVCL endpoints that are available, and stashes these in the `nvcl.NVCLEndpointRegistry`, which is bascially a dictionary containing some information about the endpoint URLs."
     ]
    },
    {
     "cell_type": "code",
     "collapsed": false,
     "input": [
      "registry = nvcl.NVCLEndpointRegistry()\n",
      "registry['GSWA']  # Take a look at the GSWA data"
     ],
     "language": "python",
     "metadata": {
      "slideshow": {
       "slide_type": "fragment"
      }
     },
     "outputs": []
    },
    {
     "cell_type": "markdown",
     "metadata": {
      "slideshow": {
       "slide_type": "fragment"
      }
     },
     "outputs": [],
     "source": [
      "You'll see that there are several urls defined for each endpoint. \n",
      "\n",
      "This is because the NVCL webservices require slightly different handling, because they seperate the borehole metadata (e.g. location, driller etc) from the datasets defined on the borehole. To access the NVCL data you have to:\n",
      "\n",
      "1. Query the metadata service to see what's available (i.e. what borehole identifiers are there?)\n",
      "\n",
      "2. Hit the download service with a given borehole identifier to download the data associated with that borehole\n",
      "\n",
      "pySISS gives you a bunch of importers which do both of these things from a single object, the `nvcl.NVCLImporter` class."
     ]
    },
    {
     "cell_type": "code",
     "collapsed": false,
     "input": [
      "# Get an importer which points to the GSWA endpoint\n",
      "importer = nvcl.NVCLImporter('GSWA')"
     ],
     "language": "python",
     "metadata": {
      "slideshow": {
       "slide_type": "fragment"
      }
     },
     "outputs": []
    },
    {
     "cell_type": "markdown",
     "metadata": {},
     "outputs": [],
     "source": [
      "Once we've got the importer we can get all the borehole idents that are availble, and optionally the url which points to the metadata about that borehole"
     ]
    },
    {
     "cell_type": "code",
     "collapsed": false,
     "input": [
      "# Get the first 10 idents\n",
      "bh_info = importer.get_borehole_idents_and_urls(maxids=10)\n",
      "\n",
      "# Loop through the dictionary and print the ID and url\n",
      "for item in bh_info.items():\n",
      "    print '{0} {1}\\n'.format(*item),"
     ],
     "language": "python",
     "metadata": {},
     "outputs": []
    },
    {
     "cell_type": "code",
     "collapsed": false,
     "input": [
      "from pysiss.utilities import Collection\n",
      "\n",
      "collection = Collection()\n",
      "for ident, url in bh_info.items():\n",
      "    if url != '#null':\n",
      "        bh = importer.get_borehole(ident, get_analytes=False)  # Don't download data\n",
      "        if bh:\n",
      "            collection.append(bh)\n",
      "\n",
      "collection"
     ],
     "language": "python",
     "metadata": {},
     "outputs": []
    },
    {
     "cell_type": "code",
     "collapsed": false,
     "input": [
      "locations = [bh.origin_position for bh in collection]\n",
      "locations"
     ],
     "language": "python",
     "metadata": {},
     "outputs": []
    },
    {
     "cell_type": "code",
     "collapsed": false,
     "input": [
      "import folium\n",
      "\n",
      "bbox = bbox\n",
      "bh_map = folium.Map(location=(-47, 121))"
     ],
     "language": "python",
     "metadata": {},
     "outputs": []
    },
    {
     "cell_type": "code",
     "collapsed": false,
     "input": [],
     "language": "python",
     "metadata": {},
     "outputs": []
    }
   ],
   "metadata": {}
  }
 ]
}