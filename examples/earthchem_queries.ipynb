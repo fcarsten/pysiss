{
 "metadata": {
  "name": "",
  "signature": "sha256:bfa1facfacbec9429791e79a2c8b1d193207a6a6841cb30e5db88da7cef03937"
 },
 "nbformat": 3,
 "nbformat_minor": 0,
 "worksheets": [
  {
   "cells": [
    {
     "cell_type": "code",
     "collapsed": false,
     "input": [
      "%pylab inline\n",
      "\n",
      "import pysiss"
     ],
     "language": "python",
     "metadata": {},
     "outputs": []
    },
    {
     "cell_type": "code",
     "collapsed": false,
     "input": [
      "help(pysiss.vocabulary.lithology)"
     ],
     "language": "python",
     "metadata": {},
     "outputs": []
    },
    {
     "cell_type": "code",
     "collapsed": false,
     "input": [
      "from IPython.display import HTML\n",
      "\n",
      "def embed_map(map, path=\"map.html\"):\n",
      "    \"\"\" Embeds a linked iframe to the map into the IPython notebook.\n",
      "    \n",
      "        Note: this method will not capture the source of the map into the notebook.\n",
      "        This method should work for all maps (as long as they use relative urls).\n",
      "    \"\"\"\n",
      "    map.create_map(path=path)\n",
      "    return HTML('<iframe src=\"files/{path}\" style=\"width: 100%; height: 510px; border: none\"></iframe>'.format(path=path))\n"
     ],
     "language": "python",
     "metadata": {},
     "outputs": []
    },
    {
     "cell_type": "code",
     "collapsed": false,
     "input": [
      "query = EarthChemQuery(level4='basalt', max_results=10000)\n",
      "results = query.result"
     ],
     "language": "python",
     "metadata": {},
     "outputs": []
    },
    {
     "cell_type": "code",
     "collapsed": false,
     "input": [
      "import folium\n",
      "\n",
      "# Generate the map\n",
      "sample_map = folium.Map(location=[results['latitude'].mean(), \n",
      "                                  results['longitude'].mean()],\n",
      "                        zoom_start=4, \n",
      "                        tiles='Mapbox',\n",
      "                        API_key='jessrobertson.i9c8em78')\n",
      "\n",
      "for _, sample in results.iterrows():\n",
      "    sample_map.simple_marker(\n",
      "        location=(sample['latitude'], sample['longitude']),\n",
      "        popup=sample['sample_id'] + '/' + sample['source'])\n",
      "\n",
      "# Show the map in the notebook\n",
      "embed_map(sample_map)"
     ],
     "language": "python",
     "metadata": {},
     "outputs": []
    },
    {
     "cell_type": "code",
     "collapsed": false,
     "input": [
      "for label, data in results.groupby('source'):\n",
      "    plot(data['sio2'], data['mgo'], 'o', label=label)\n",
      "xlabel('SiO2')\n",
      "ylabel('MgO')\n",
      "legend()"
     ],
     "language": "python",
     "metadata": {},
     "outputs": []
    },
    {
     "cell_type": "code",
     "collapsed": false,
     "input": [
      "results"
     ],
     "language": "python",
     "metadata": {},
     "outputs": []
    }
   ],
   "metadata": {}
  }
 ]
}