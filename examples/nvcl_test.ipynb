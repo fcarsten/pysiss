{
 "metadata": {
  "name": "",
  "signature": "sha256:dfbe5e56ac06730f52b350f23cc77dcb8be672409b11bce40443ba14c62dd1d7"
 },
 "nbformat": 3,
 "nbformat_minor": 0,
 "worksheets": [
  {
   "cells": [
    {
     "cell_type": "code",
     "collapsed": false,
     "input": [
      "%pylab inline\n",
      "\n",
      "import pyboreholes as pybh\n",
      "import pyboreholes.importers.nvcl as nvcl"
     ],
     "language": "python",
     "metadata": {},
     "outputs": []
    },
    {
     "cell_type": "markdown",
     "metadata": {},
     "source": [
      "Get the NVCL endpoint registry, see what's available"
     ]
    },
    {
     "cell_type": "code",
     "collapsed": false,
     "input": [
      "registry = nvcl.NVCLEndpointRegistry()\n",
      "registry.keys()"
     ],
     "language": "python",
     "metadata": {},
     "outputs": []
    },
    {
     "cell_type": "markdown",
     "metadata": {},
     "source": [
      "Make importers for each default endpoint in the registry"
     ]
    },
    {
     "cell_type": "code",
     "collapsed": false,
     "input": [
      "importers = {}\n",
      "for ept in registry.keys():\n",
      "    importers[ept] = nvcl.NVCLImporter(ept)\n",
      "    \n",
      "# Example\n",
      "gswa = importers['GSWA']\n",
      "gswa"
     ],
     "language": "python",
     "metadata": {},
     "outputs": []
    },
    {
     "cell_type": "markdown",
     "metadata": {},
     "source": [
      "So we can query the importer to find out what boreholes are available at this endpoint"
     ]
    },
    {
     "cell_type": "code",
     "collapsed": false,
     "input": [
      "for ident, url in gswa.get_borehole_idents_and_urls().items():\n",
      "    print ident, url"
     ],
     "language": "python",
     "metadata": {},
     "outputs": []
    },
    {
     "cell_type": "markdown",
     "metadata": {},
     "source": [
      "...and we can get the datasets associated with a particular borehole"
     ]
    },
    {
     "cell_type": "code",
     "collapsed": false,
     "input": [
      "bh_idents = gswa.get_borehole_idents()\n",
      "\n",
      "# Get the datasets assocated with the borehole ident\n",
      "datasets = {}\n",
      "for ident in bh_idents:\n",
      "    datasets[ident] = \\\n",
      "        gswa.get_borehole_datasets(ident)\n",
      "datasets['PDP2C']"
     ],
     "language": "python",
     "metadata": {},
     "outputs": []
    },
    {
     "cell_type": "markdown",
     "metadata": {},
     "source": [
      "And we can get all the datasets as a Borehole instance"
     ]
    },
    {
     "cell_type": "code",
     "collapsed": false,
     "input": [
      "gswa.get_borehole('PDP2C')"
     ],
     "language": "python",
     "metadata": {},
     "outputs": []
    }
   ],
   "metadata": {}
  }
 ]
}