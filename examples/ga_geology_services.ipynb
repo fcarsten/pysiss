{
 "metadata": {
  "name": "",
  "signature": "sha256:5e86ea703682def975fb4e58bfd3499cbd7832c06da03b8e1b4154381c69aa82"
 },
 "nbformat": 3,
 "nbformat_minor": 0,
 "worksheets": [
  {
   "cells": [
    {
     "cell_type": "code",
     "collapsed": false,
     "input": [
      "%pylab inline\n",
      "\n",
      "import owslib, fiona, shapely\n",
      "from shapely.geometry import mapping, shape"
     ],
     "language": "python",
     "metadata": {},
     "outputs": []
    },
    {
     "cell_type": "code",
     "collapsed": false,
     "input": [
      "from owslib.wfs import WebFeatureService\n",
      "\n",
      "# East Australian geology\n",
      "wfsurl_template = http://www.ga.gov.au/geows/geologicunits/oneg_east_aus_1m/wfs?request=GetCapabilities&service=wfs&version=1.1.0\n",
      "wfsurl_template = (\"http://www.ga.gov.au/geows/{0}\"\n",
      "                   \"/oneg_east_aus_1m/wfs?request=GetCapabilities&service=wfs&version=1.1.0\")\n",
      "geologic_objects = ('contacts', 'faults', 'geologicunits', 'sheardisplacementstructures')\n",
      "\n",
      "# # West Australian geology at 1:1 M scale\n",
      "# wfsurl_template = (\"http://www.ga.gov.au/geows/{0}\"\n",
      "#                    \"/oneg_wa_1m/wfs?request=GetCapabilities&service=wfs&version=1.1.0\")\n",
      "# geologic_objects = ('contacts', 'faults', 'geologicunits')\n",
      "\n",
      "# Load objects from GA webservices\n",
      "geology = {}\n",
      "for obj in geologic_objects:\n",
      "    geology[obj] = WebFeatureService(wfsurl_template.format(obj), version='1.1.0')"
     ],
     "language": "python",
     "metadata": {},
     "outputs": []
    },
    {
     "cell_type": "code",
     "collapsed": false,
     "input": [
      "geology['geologicunits']"
     ],
     "language": "python",
     "metadata": {},
     "outputs": []
    },
    {
     "cell_type": "code",
     "collapsed": false,
     "input": [
      "geology['faults'].contents"
     ],
     "language": "python",
     "metadata": {},
     "outputs": []
    },
    {
     "cell_type": "code",
     "collapsed": false,
     "input": [
      "faults.getfeature('gsml:Fault', outputFormat='text/xml').read()"
     ],
     "language": "python",
     "metadata": {},
     "outputs": []
    },
    {
     "cell_type": "code",
     "collapsed": false,
     "input": [
      "wfsurl = \"http://www.ga.gov.au/gis/services/earth_science/Geomorphology_Landform_Type_WM/MapServer/WFSServer?request=GetCapabilities&service=WFS\"\n",
      "\n",
      "geology = WebFeatureService(wfsurl, version='1.1.0')\n",
      "geology.contents"
     ],
     "language": "python",
     "metadata": {},
     "outputs": []
    },
    {
     "cell_type": "code",
     "collapsed": false,
     "input": [
      "feature = geology.getfeature('earth_science_Geomorphology_Landform_Type_WM:Landform_Type_Surface_Geology_Reclassified_25K')"
     ],
     "language": "python",
     "metadata": {},
     "outputs": []
    },
    {
     "cell_type": "code",
     "collapsed": false,
     "input": [
      "import textwrap\n",
      "import urllib2 as urllib\n",
      "\n",
      "# West Australian geology\n",
      "wfsurl_template = (\"http://www.ga.gov.au/geows/{0}\"\n",
      "                   \"/oneg_wa_1m/wfs?request=GetCapabilities&service=wfs&version=1.1.0\")\n",
      "geologic_objects = ('contacts', 'faults', 'geologicunits')\n",
      "\n",
      "# Post request body\n",
      "request_template = textwrap.dedent(\"\"\"\\\n",
      "    <?xml version=\"1.0\" encoding=\"utf-8\"?>\n",
      "    <wfs:GetFeature\n",
      "     xmlns:wfs=\"http://www.opengis.net/wfs\"\n",
      "     xmlns:ogc=\"http://www.opengis.net/ogc\"\n",
      "     xmlns:gml=\"http://www.opengis.net/gml\"\n",
      "     xmlns:sa=\"http://www.opengis.net/sampling/1.0\"\n",
      "     maxFeatures=\"15\" service=\"WFS\"\n",
      "     version=\"1.1.0\" xmlns:gsml=\"urn:cgi:xmlns:CGI:GeoSciML:2.0\">\n",
      "       <wfs:Query typeName=\"gsml:MappedFeature\">\n",
      "         <ogc:Filter xmlns:ogc=\"http://www.opengis.net/ogc\">\n",
      "           <ogc:BBOX>\n",
      "             <ogc:PropertyName>gsml:shape</ogc:PropertyName>\n",
      "             <gml:Envelope srsName=\"EPSG:4326\">\n",
      "               <gml:lowerCorner>{0[0]}, {0[1]}</gml:lowerCorner>\n",
      "               <gml:upperCorner>{1[0]}, {1[1]}</gml:upperCorner>\n",
      "             </gml:Envelope>\n",
      "           </ogc:BBOX>\n",
      "         </ogc:Filter>\n",
      "       </wfs:Query>\n",
      "    </wfs:GetFeature>\n",
      "\"\"\")\n",
      "\n",
      "# And a test\n",
      "lower_corner = (142.36, -28.19)\n",
      "upper_corner = (143.36, -27.19)\n",
      "print request_template.format(lower_corner, upper_corner)"
     ],
     "language": "python",
     "metadata": {},
     "outputs": []
    },
    {
     "cell_type": "code",
     "collapsed": false,
     "input": [
      "# Construct the request\n",
      "req = urllib.Request(\n",
      "    url=wfsurl_template.format('geologicalunits'), \n",
      "    data=request_template.format(lower_corner, upper_corner))\n",
      "\n",
      "# Get the response from the WFS endpoint\n",
      "response = urllib.urll()\n",
      "response"
     ],
     "language": "python",
     "metadata": {},
     "outputs": []
    },
    {
     "cell_type": "code",
     "collapsed": false,
     "input": [
      "import urllib\n",
      "urllib.urlencode({'a':'foo', 'b':'bar'})"
     ],
     "language": "python",
     "metadata": {},
     "outputs": []
    },
    {
     "cell_type": "code",
     "collapsed": false,
     "input": [],
     "language": "python",
     "metadata": {},
     "outputs": []
    }
   ],
   "metadata": {}
  }
 ]
}