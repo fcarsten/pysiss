{
 "metadata": {
  "name": "",
  "signature": "sha256:e39d60e684cb056ce5d730ca9d83b9eb20a5be31657e29b2a9ef05a19027276b"
 },
 "nbformat": 3,
 "nbformat_minor": 0,
 "worksheets": [
  {
   "cells": [
    {
     "cell_type": "code",
     "collapsed": false,
     "input": [
      "%pylab inline\n",
      "from descartes.patch import PolygonPatch\n",
      "\n",
      "from pysiss.vocabulary.unmarshal import unmarshal_all, unmarshal\n",
      "from pysiss.vocabulary.namespaces import NamespaceRegistry\n",
      "\n",
      "NAMESPACES = NamespaceRegistry()"
     ],
     "language": "python",
     "metadata": {},
     "outputs": []
    },
    {
     "cell_type": "code",
     "collapsed": false,
     "input": [
      "geologic_units = unmarshal_all('geologicunits.xml', tag='gsml:MappedFeature')\n",
      "faults = unmarshal_all('faults.xml', tag='gsml:MappedFeature')\n",
      "contacts = unmarshal_all('contacts.xml', tag='gsml:MappedFeature')"
     ],
     "language": "python",
     "metadata": {},
     "outputs": []
    },
    {
     "cell_type": "code",
     "collapsed": false,
     "input": [
      "def update_range(xs, ys, x_range, y_range):\n",
      "    x_range = max(min(xs), x_range[0]), min(max(xs), x_range[1])\n",
      "    y_range = max(min(ys), y_range[0]), min(max(ys), y_range[1])\n",
      "    return x_range, y_range"
     ],
     "language": "python",
     "metadata": {},
     "outputs": []
    },
    {
     "cell_type": "code",
     "collapsed": false,
     "input": [
      "fig = figure(figsize=(22, 22))\n",
      "axes = gca()\n",
      "\n",
      "# Plot units\n",
      "for feature in geologic_units:\n",
      "    axes.add_patch(PolygonPatch(feature.shape,\n",
      "                   facecolor=(0.5, 0.5, 0.5),\n",
      "                   edgecolor='gray', alpha=0.6, zorder=0))\n",
      "    \n",
      "# Plot faults\n",
      "x_range, y_range = (-inf, inf), (-inf, inf)\n",
      "for fault in faults:\n",
      "    # If fault is concealed, plot it with dashes\n",
      "    description = fault.metadata.xpath('.//gml:description',\n",
      "                                     namespaces=NAMESPACES)[0]\n",
      "    if 'concealed' in description.text:\n",
      "        dashes=(5, 5)\n",
      "    else:\n",
      "        dashes=(1, 0)\n",
      "        \n",
      "    xs, ys = fault.shape.xy\n",
      "    x_range, y_range = update_range(xs, ys, x_range, y_range)\n",
      "    axes.plot(xs, ys, color='black', linewidth=2, zorder=1, dashes=dashes)\n",
      "    \n",
      "# Plot contacts\n",
      "projections = set()\n",
      "for contact in contacts:\n",
      "    # Work out what sort of contact we're plotting\n",
      "    descr =contact.metadata.xpath('.//gml:description',\n",
      "                                     namespaces=NAMESPACES)[0]\n",
      "    descr = descr.text.lower()\n",
      "    if descr == 'geological boundary':\n",
      "        props = dict(color='black', dashes=(7, 1), linewidth=0.5)\n",
      "    elif descr == 'fault':\n",
      "        props = dict(color='black', linewidth=2)\n",
      "    elif descr == 'dyke or vein':\n",
      "        props = dict(color='red', linewidth=2)\n",
      "    else:\n",
      "        props = dict(color='blue', linewidth=0.5)\n",
      "        \n",
      "    # Plot the line\n",
      "    xs, ys = contact.shape.xy\n",
      "    axes.plot(xs, ys, zorder=2, **props)\n",
      "    \n",
      "print x_range, y_range\n",
      "    \n",
      "axes.set_xlim(*x_range)\n",
      "axes.set_ylim(*y_range)\n",
      "axes.set_aspect('equal')\n",
      "axes.set_axis_off()"
     ],
     "language": "python",
     "metadata": {},
     "outputs": []
    },
    {
     "cell_type": "code",
     "collapsed": false,
     "input": [
      "from pysiss.vocabulary.utilities.xml_namespaces import NamespaceRegistry, shorten_namespace\n",
      "\n",
      "NAMESPACES = NamespaceRegistry()\n",
      "\n",
      "descriptions = set()\n",
      "for feature in geologic_units:\n",
      "    for elem in feature.metadata.iterdescendants():\n",
      "        descriptions.add(shorten_namespace(elem.tag))\n",
      "        if elem.tag == expand_namespace('gsml:name'):\n",
      "            print elem.text\n",
      "print descriptions"
     ],
     "language": "python",
     "metadata": {},
     "outputs": []
    },
    {
     "cell_type": "code",
     "collapsed": false,
     "input": [],
     "language": "python",
     "metadata": {},
     "outputs": []
    }
   ],
   "metadata": {}
  }
 ]
}