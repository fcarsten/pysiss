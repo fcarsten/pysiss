{
 "metadata": {
  "name": "wavelet_plotting"
 },
 "nbformat": 3,
 "nbformat_minor": 0,
 "worksheets": [
  {
   "cells": [
    {
     "cell_type": "markdown",
     "metadata": {},
     "source": [
      "Plotting wavelet functions\n",
      "=========================="
     ]
    },
    {
     "cell_type": "code",
     "collapsed": false,
     "input": [
      "%pylab inline\n",
      "import numpy\n",
      "from scipy import fftpack\n",
      "from cwavelets import *\n",
      "from cwavelets.plotting import plot_wavelet"
     ],
     "language": "python",
     "metadata": {},
     "outputs": [
      {
       "output_type": "stream",
       "stream": "stdout",
       "text": [
        "\n",
        "Welcome to pylab, a matplotlib-based Python environment [backend: module://IPython.zmq.pylab.backend_inline].\n",
        "For more information, type 'help(pylab)'.\n"
       ]
      }
     ],
     "prompt_number": 4
    },
    {
     "cell_type": "markdown",
     "metadata": {},
     "source": [
      "Meyer wavelet families\n",
      "----------------------"
     ]
    },
    {
     "cell_type": "code",
     "collapsed": false,
     "input": [
      "for decay in [1/3., 2/3.]:\n",
      "    properties = WaveletProperties(frequency_decay=decay)\n",
      "    meyerscaling = MeyerScaling(signal=arange(10), properties=properties)\n",
      "    fig, ax1, ax2 = plot_wavelet(meyerscaling, \n",
      "        title='Meyer scaling function $\\phi({0:0.2f};x)$'.format(properties['frequency_decay']));\n",
      "    ax2.set_xlim(-5, 5)\n",
      "    ax1.set_xlim(-15, 15)\n",
      "\n",
      "    meyer = Meyer(signal=arange(10), properties=properties)\n",
      "    fig, ax1, ax2 = plot_wavelet(meyer, \n",
      "        title='Meyer wavelet $\\psi({0:0.2f}; x)$'.format(properties['frequency_decay']));\n",
      "    ax2.set_xlim(-5, 5)\n",
      "    ax1.set_xlim(-15, 15)"
     ],
     "language": "python",
     "metadata": {},
     "outputs": [],
     "prompt_number": 5
    },
    {
     "cell_type": "markdown",
     "metadata": {},
     "source": [
      "Morelet wavelet family\n",
      "----------------------\n"
     ]
    },
    {
     "cell_type": "code",
     "collapsed": false,
     "input": [
      "for ffreq in [0., 6., 12.]:\n",
      "    properties = WaveletProperties(fundamental_frequency=ffreq)\n",
      "    morlet = Morlet(signal=arange(10), properties=properties)\n",
      "    fig, ax1, ax2 = plot_wavelet(morlet, complex_wavelet=True,\n",
      "        title='Morlet wavelet $\\psi(\\omega_{{0}}={0:1.1f}; x)$'.format(properties['fundamental_frequency']))\n",
      "    ax2.set_xlim(-5, 5)\n",
      "    ax1.set_xlim(-16, 16)\n",
      "    ax1.set_ylim(-0.1, 0.5);"
     ],
     "language": "python",
     "metadata": {},
     "outputs": [],
     "prompt_number": 6
    },
    {
     "cell_type": "markdown",
     "metadata": {},
     "source": [
      "Hermitian wavelet family\n",
      "------------------------"
     ]
    },
    {
     "cell_type": "code",
     "collapsed": false,
     "input": [
      "for order in range(1, 10):\n",
      "    properties = WaveletProperties(order=order)\n",
      "    herm = Hermitian(signal=arange(10), properties=properties)\n",
      "    fig, ax1, ax2 = plot_wavelet(herm, complex_wavelet=True,\n",
      "        title='Hermitian wavelet $\\psi_{0}(x)$'.format(properties['order']))\n",
      "    ax1.set_xlim([-20, 20])\n",
      "    ax1.set_ylim([-0.5, 0.5])"
     ],
     "language": "python",
     "metadata": {},
     "outputs": [],
     "prompt_number": 7
    }
   ],
   "metadata": {}
  }
 ]
}