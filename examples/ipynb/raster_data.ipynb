{
 "metadata": {
  "name": "",
  "signature": "sha256:2611d5c066345ca3f43c2e3b51c7dc28ab3d96c2b23a8c9cd25dc2310fd3e647"
 },
 "nbformat": 3,
 "nbformat_minor": 0,
 "worksheets": [
  {
   "cells": [
    {
     "cell_type": "code",
     "collapsed": false,
     "input": [
      "%pylab inline\n",
      "\n",
      "import rasterio as rio\n",
      "from shapely.geometry import Polygon\n",
      "import inspect"
     ],
     "language": "python",
     "metadata": {},
     "outputs": []
    },
    {
     "cell_type": "code",
     "collapsed": false,
     "input": [
      "with rio.drivers():\n",
      "    with rio.open('/home/jess/src/rasterio/rasterio/tests/data/RGB.byte.tif') as src:\n",
      "        print '\\n'.join(map(str, inspect.getmembers(src)))\n",
      "        "
     ],
     "language": "python",
     "metadata": {},
     "outputs": []
    },
    {
     "cell_type": "code",
     "collapsed": false,
     "input": [],
     "language": "python",
     "metadata": {},
     "outputs": []
    }
   ],
   "metadata": {}
  }
 ]
}