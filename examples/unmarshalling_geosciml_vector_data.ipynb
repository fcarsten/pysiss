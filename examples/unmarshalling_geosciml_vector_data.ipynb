{
 "metadata": {
  "name": "",
  "signature": "sha256:504026de8e7769ab29ed24d86bfd340a84243efa1481465245b6f11accc4c623"
 },
 "nbformat": 3,
 "nbformat_minor": 0,
 "worksheets": [
  {
   "cells": [
    {
     "cell_type": "code",
     "collapsed": false,
     "input": [
      "%pylab inline\n",
      "import mpld3\n",
      "mpld3.enable_notebook()\n",
      "from descartes.patch import PolygonPatch\n",
      "\n",
      "from pysiss.vocabulary.unmarshal import unmarshal_all"
     ],
     "language": "python",
     "metadata": {},
     "outputs": []
    },
    {
     "cell_type": "code",
     "collapsed": false,
     "input": [
      "geologic_units = unmarshal_all('geologicunits.xml', tag='gsml:MappedFeature')\n",
      "faults = unmarshal_all('faults.xml', tag='gsml:MappedFeature')"
     ],
     "language": "python",
     "metadata": {},
     "outputs": []
    },
    {
     "cell_type": "code",
     "collapsed": false,
     "input": [
      "fig = figure(figsize=(22, 22))\n",
      "axes = gca()\n",
      "\n",
      "# Plot units\n",
      "for feature in geologic_units:\n",
      "    axes.add_patch(PolygonPatch(feature.shape,\n",
      "                   facecolor=(0.5, 0.5, 0.5),\n",
      "                   edgecolor='gray', alpha=0.6))\n",
      "    \n",
      "# Plot faults\n",
      "x_range, y_range = (-inf, inf), (-inf, inf)\n",
      "for fault in faults:\n",
      "    xs, ys = fault.shape.xy\n",
      "    x_range = max(min(xs), x_range[0]), min(max(xs), x_range[1])\n",
      "    y_range = max(min(ys), y_range[0]), min(max(ys), y_range[1])\n",
      "    axes.plot(xs, ys, color='black', linewidth=2, zorder=1)\n",
      "    \n",
      "axes.set_xlim(*x_range)\n",
      "axes.set_ylim(*y_range)\n",
      "axes.set_aspect('equal')\n",
      "axes.set_axis_off()"
     ],
     "language": "python",
     "metadata": {},
     "outputs": []
    },
    {
     "cell_type": "code",
     "collapsed": false,
     "input": [],
     "language": "python",
     "metadata": {},
     "outputs": []
    }
   ],
   "metadata": {}
  }
 ]
}