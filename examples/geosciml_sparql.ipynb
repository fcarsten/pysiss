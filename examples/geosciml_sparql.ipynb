{
 "metadata": {
  "name": "",
  "signature": "sha256:46b9f4c1e7586d63565f501195b06af32dff6f7ae4eac4c3112a7c4a5ffb6e9b"
 },
 "nbformat": 3,
 "nbformat_minor": 0,
 "worksheets": [
  {
   "cells": [
    {
     "cell_type": "code",
     "collapsed": false,
     "input": [
      "%pylab inline\n",
      "\n",
      "import SPARQLWrapper\n",
      "import rdflib"
     ],
     "language": "python",
     "metadata": {},
     "outputs": []
    },
    {
     "cell_type": "code",
     "collapsed": false,
     "input": [
      "geosciml = rdflib.Graph().parse('../pysiss/vocabulary/geosciml/resources/alterationtype.rdf')"
     ],
     "language": "python",
     "metadata": {},
     "outputs": []
    },
    {
     "cell_type": "code",
     "collapsed": false,
     "input": [
      "result = geosciml.query(\"\"\"\n",
      "    SELECT ?concept ?label\n",
      "    WHERE {\n",
      "        ?concept skos:inScheme gsml:alterationtype .\n",
      "        ?concept skos:prefLabel ?label .\n",
      "    }\n",
      "    \"\"\",\n",
      "    initNs=dict(\n",
      "        skos='http://www.w3.org/2004/02/skos/core#',\n",
      "        gsml='http://resource.geosciml.org/classifierscheme/cgi/201211/'))"
     ],
     "language": "python",
     "metadata": {},
     "outputs": []
    },
    {
     "cell_type": "code",
     "collapsed": false,
     "input": [
      "for concept_uri, label in result:\n",
      "    print label, concept_uri"
     ],
     "language": "python",
     "metadata": {},
     "outputs": []
    },
    {
     "cell_type": "code",
     "collapsed": false,
     "input": [
      "print len(result)"
     ],
     "language": "python",
     "metadata": {},
     "outputs": []
    },
    {
     "cell_type": "code",
     "collapsed": false,
     "input": [
      "pref"
     ],
     "language": "python",
     "metadata": {},
     "outputs": []
    }
   ],
   "metadata": {}
  }
 ]
}