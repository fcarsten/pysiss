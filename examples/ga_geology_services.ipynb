{
 "metadata": {
  "name": "",
  "signature": "sha256:53a214affff7617f9dfc2f997b57d429eff53795ff192eb4b7949b48fe8f83b9"
 },
 "nbformat": 3,
 "nbformat_minor": 0,
 "worksheets": [
  {
   "cells": [
    {
     "cell_type": "code",
     "collapsed": false,
     "input": [
      "%pylab inline"
     ],
     "language": "python",
     "metadata": {},
     "outputs": []
    },
    {
     "cell_type": "markdown",
     "metadata": {},
     "outputs": [],
     "source": [
      "Code to generate a single SOAP query"
     ]
    },
    {
     "cell_type": "code",
     "collapsed": false,
     "input": [
      "import textwrap\n",
      "import requests\n",
      "\n",
      "# West Australian geology\n",
      "wfsurl_template = (\"http://www.ga.gov.au/geows/{0}\"\n",
      "                   \"/oneg_wa_1m/wfs?request=GetCapabilities&service=wfs&version=1.1.0\")\n",
      "geologic_objects = ('contacts', 'faults', 'geologicunits')\n",
      "\n",
      "# Post request body\n",
      "request_template = textwrap.dedent(\"\"\"\\\n",
      "    <?xml version=\"1.0\" encoding=\"utf-8\"?>\n",
      "    <wfs:GetFeature\n",
      "     xmlns:wfs=\"http://www.opengis.net/wfs\"\n",
      "     xmlns:ogc=\"http://www.opengis.net/ogc\"\n",
      "     xmlns:gml=\"http://www.opengis.net/gml\"\n",
      "     xmlns:sa=\"http://www.opengis.net/sampling/1.0\"\n",
      "     maxFeatures=\"{max_features}\" service=\"WFS\" startindex=\"{start_index}\"\n",
      "     version=\"1.1.0\" xmlns:gsml=\"urn:cgi:xmlns:CGI:GeoSciML:2.0\">\n",
      "       <wfs:Query typeName=\"gsml:MappedFeature\">\n",
      "         <ogc:Filter xmlns:ogc=\"http://www.opengis.net/ogc\">\n",
      "           <ogc:BBOX>\n",
      "             <ogc:PropertyName>gsml:shape</ogc:PropertyName>\n",
      "             <gml:Envelope srsName=\"EPSG:4326\">\n",
      "               <gml:lowerCorner>{lower_corner[0]}, {lower_corner[1]}</gml:lowerCorner>\n",
      "               <gml:upperCorner>{upper_corner[0]}, {upper_corner[1]}</gml:upperCorner>\n",
      "             </gml:Envelope>\n",
      "           </ogc:BBOX>\n",
      "         </ogc:Filter>\n",
      "       </wfs:Query>\n",
      "    </wfs:GetFeature>\n",
      "\"\"\")"
     ],
     "language": "python",
     "metadata": {},
     "outputs": []
    },
    {
     "cell_type": "markdown",
     "metadata": {},
     "outputs": [],
     "source": [
      "Code to parse the geosciml we get back"
     ]
    },
    {
     "cell_type": "code",
     "collapsed": false,
     "input": [
      "import lxml.etree as etree\n",
      "from collections import namedtuple\n",
      "from shapely.geometry import Polygon\n",
      "\n",
      "GeologyUnit = namedtuple('GeologyUnit', ['id', 'poly', 'symbol'])\n",
      "\n",
      "namespaces = dict(\n",
      "    gsml=\"urn:cgi:xmlns:CGI:GeoSciML:2.0\",\n",
      "    gml=\"http://www.opengis.net/gml\")\n",
      "\n",
      "def parse_units(geosciml_data):\n",
      "    \"\"\" Pull mapped units out of GeoSciML data\n",
      "    \"\"\"\n",
      "    # Convert to ElementTree instance\n",
      "    with open('response.gsml', 'rb') as fhandle:\n",
      "        data = etree.parse(fhandle)\n",
      "    \n",
      "    # Pull out relevant metadata\n",
      "    idents = data.xpath('//gsml:GeologicUnit/@gml:id', namespaces=namespaces)\n",
      "    shapes = data.xpath('//gsml:MappedFeature/gsml:shape//gml:posList/text()', namespaces=namespaces)\n",
      "    symbols = data.xpath('//gsml:MappedFeature//gsml:GeologicUnit/gml:name [@codeSpace=\"urn:cgi:classifierScheme:GA:StratigraphicLexicon:Map_symbol\"]//text()',\n",
      "                         namespaces=namespaces)\n",
      "\n",
      "    # Make a geological unit object with relevant metadata\n",
      "    units = {}\n",
      "    for ident, shape, symb in zip(idents, shapes, symbols):\n",
      "        units[ident] = GeologyUnit(\n",
      "            id=ident, \n",
      "            poly=Polygon([map(float, p.split()) for p in shape.split('\\n')[1:-1]]),\n",
      "            symbol=symb)\n",
      "    return units"
     ],
     "language": "python",
     "metadata": {},
     "outputs": []
    },
    {
     "cell_type": "markdown",
     "metadata": {},
     "outputs": [],
     "source": [
      "Next we need to loop through and get subsequent features from the WFS"
     ]
    },
    {
     "cell_type": "code",
     "collapsed": false,
     "input": [
      "# Set some properties for the loop\n",
      "maxunits = 100\n",
      "units_per_slab = 100\n",
      "params = dict(\n",
      "    lower_corner=(110, -30),\n",
      "    upper_corner=(135, -19),\n",
      "    max_features=units_per_slab,\n",
      "    start_index=0)\n",
      "\n",
      "units = {}\n",
      "while len(units) < maxunits:\n",
      "    # POST to the WFS\n",
      "    response = requests.post(\n",
      "        url=wfsurl_template.format('geologicunits'),\n",
      "        data=request_template.format(**params))\n",
      "    \n",
      "    # Parse the result\n",
      "    old_length = len(units)\n",
      "    if response.ok:\n",
      "        new_units = parse_units(response.content)\n",
      "        print new_units.keys()\n",
      "        units.update(new_units)\n",
      "    else:\n",
      "        break\n",
      "    if old_length == len(units):\n",
      "        break\n",
      "        \n",
      "    # Increment the starting index\n",
      "    params['start_index'] += units_per_slab"
     ],
     "language": "python",
     "metadata": {},
     "outputs": []
    },
    {
     "cell_type": "markdown",
     "metadata": {},
     "outputs": [],
     "source": [
      "Function to generate shapes from GeoSciML MappedObjects"
     ]
    },
    {
     "cell_type": "code",
     "collapsed": false,
     "input": [
      "units"
     ],
     "language": "python",
     "metadata": {},
     "outputs": []
    },
    {
     "cell_type": "markdown",
     "metadata": {},
     "outputs": [],
     "source": [
      "Set up colors based on age of lithology"
     ]
    },
    {
     "cell_type": "code",
     "collapsed": false,
     "input": [
      "import brewer2mpl as brewer\n",
      "\n",
      "ages = set([u.symbol[0] for u in units.values()])\n",
      "ages"
     ],
     "language": "python",
     "metadata": {},
     "outputs": []
    },
    {
     "cell_type": "code",
     "collapsed": false,
     "input": [
      "colors = dict(C='blue', Q='yellow', N='purple')"
     ],
     "language": "python",
     "metadata": {},
     "outputs": []
    },
    {
     "cell_type": "code",
     "collapsed": false,
     "input": [
      "from descartes.patch import PolygonPatch\n",
      "\n",
      "fig = figure(figsize=(11, 11))\n",
      "axes = gca()\n",
      "for unit in units.values():\n",
      "    patch = PolygonPatch(unit.poly, fc=colors[unit.symbol[0]], ec='black', alpha=0.8)\n",
      "    label_location = unit.poly.representative_point()\n",
      "    axes.add_patch(patch)\n",
      "    axes.text(label_location.x, label_location.y, unit.symbol)\n",
      "# axes.set_xlim(params['lower_corner'][0], params['upper_corner'][0])\n",
      "# axes.set_ylim(params['lower_corner'][1], params['upper_corner'][1])\n",
      "axes.set_xlim(120.6, 121)\n",
      "axes.set_ylim(-24, -24.4)\n",
      "axes.set_aspect(1)\n",
      "axes.set_axis_off()\n",
      "tight_layout()"
     ],
     "language": "python",
     "metadata": {},
     "outputs": []
    },
    {
     "cell_type": "code",
     "collapsed": false,
     "input": [
      "help(descartes.patch)"
     ],
     "language": "python",
     "metadata": {},
     "outputs": []
    }
   ],
   "metadata": {}
  }
 ]
}