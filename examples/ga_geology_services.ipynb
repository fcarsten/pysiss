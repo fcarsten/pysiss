{
 "metadata": {
  "name": "",
  "signature": "sha256:385b7424c3cde76c98616214de3f75b6aa90c4111ae0f02c77789f220ec2c0d6"
 },
 "nbformat": 3,
 "nbformat_minor": 0,
 "worksheets": [
  {
   "cells": [
    {
     "cell_type": "code",
     "collapsed": false,
     "input": [
      "%pylab inline\n",
      "\n",
      "import owslib, fiona, shapely\n",
      "from shapely.geometry import mapping, shape"
     ],
     "language": "python",
     "metadata": {},
     "outputs": []
    },
    {
     "cell_type": "code",
     "collapsed": false,
     "input": [
      "from owslib.wfs import WebFeatureService\n",
      "\n",
      "# East Australian geology\n",
      "wfsurl_template = (\"http://www.ga.gov.au/geows/{0}\"\n",
      "                   \"/oneg_east_aus_1m/wfs?request=GetCapabilities&service=wfs&version=1.1.0\")\n",
      "geologic_objects = ('contacts', 'faults', 'geologicunits', 'sheardisplacementstructures')\n",
      "\n",
      "# # West Australian geology at 1:1 M scale\n",
      "# wfsurl_template = (\"http://www.ga.gov.au/geows/{0}\"\n",
      "#                    \"/oneg_wa_1m/wfs?request=GetCapabilities&service=wfs&version=1.1.0\")\n",
      "# geologic_objects = ('contacts', 'faults', 'geologicunits')\n",
      "\n",
      "# Load objects from GA webservices\n",
      "geology = {}\n",
      "for obj in geologic_objects:\n",
      "    geology[obj] = WebFeatureService(wfsurl_template.format(obj), version='1.1.0')"
     ],
     "language": "python",
     "metadata": {},
     "outputs": []
    },
    {
     "cell_type": "code",
     "collapsed": false,
     "input": [
      "geology['geologicunits']"
     ],
     "language": "python",
     "metadata": {},
     "outputs": []
    },
    {
     "cell_type": "code",
     "collapsed": false,
     "input": [
      "geology['faults'].contents"
     ],
     "language": "python",
     "metadata": {},
     "outputs": []
    },
    {
     "cell_type": "code",
     "collapsed": false,
     "input": [
      "faults.getfeature('gsml:Fault', outputFormat='text/xml').read()"
     ],
     "language": "python",
     "metadata": {},
     "outputs": []
    },
    {
     "cell_type": "code",
     "collapsed": false,
     "input": [
      "wfsurl = \"http://www.ga.gov.au/gis/services/earth_science/Geomorphology_Landform_Type_WM/MapServer/WFSServer?request=GetCapabilities&service=WFS\"\n",
      "\n",
      "geology = WebFeatureService(wfsurl, version='1.1.0')\n",
      "geology.contents"
     ],
     "language": "python",
     "metadata": {},
     "outputs": []
    },
    {
     "cell_type": "code",
     "collapsed": false,
     "input": [
      "feature = geology.getfeature('earth_science_Geomorphology_Landform_Type_WM:Landform_Type_Surface_Geology_Reclassified_25K')"
     ],
     "language": "python",
     "metadata": {},
     "outputs": []
    },
    {
     "cell_type": "code",
     "collapsed": false,
     "input": [
      "feature.readline()"
     ],
     "language": "python",
     "metadata": {},
     "outputs": []
    }
   ],
   "metadata": {}
  }
 ]
}