{
 "metadata": {
  "name": "",
  "signature": "sha256:236c9fac5b31e18695b3c26ae28906cf85dd4bb4887bc947658f0dd76faf676d"
 },
 "nbformat": 3,
 "nbformat_minor": 0,
 "worksheets": [
  {
   "cells": [
    {
     "cell_type": "code",
     "collapsed": false,
     "input": [
      "%pylab inline"
     ],
     "language": "python",
     "metadata": {},
     "outputs": []
    },
    {
     "cell_type": "markdown",
     "metadata": {},
     "outputs": [],
     "source": [
      "Code to generate a single SOAP query"
     ]
    },
    {
     "cell_type": "code",
     "collapsed": false,
     "input": [
      "import textwrap\n",
      "import requests\n",
      "\n",
      "# West Australian geology\n",
      "wfsurl_template = (\"http://www.ga.gov.au/geows/{0}/oneg_wa_1m/wfs\")\n",
      "geologic_objects = ('contacts', 'faults', 'geologicunits')\n",
      "\n",
      "# Post request body\n",
      "request_template = textwrap.dedent(\"\"\"\\\n",
      "    <?xml version=\"1.0\" encoding=\"utf-8\"?>\n",
      "    <wfs:GetFeature\n",
      "     xmlns:wfs=\"http://www.opengis.net/wfs\"\n",
      "     xmlns:ogc=\"http://www.opengis.net/ogc\"\n",
      "     xmlns:gml=\"http://www.opengis.net/gml\"\n",
      "     xmlns:sa=\"http://www.opengis.net/sampling/1.0\"\n",
      "     maxFeatures=\"{max_features}\" service=\"WFS\"\n",
      "     version=\"1.1.0\" xmlns:gsml=\"urn:cgi:xmlns:CGI:GeoSciML:2.0\">\n",
      "       <wfs:Query typeName=\"gsml:MappedFeature\">\n",
      "        <ogc:Filter xmlns:ogc=\"http://www.opengis.net/ogc\">\n",
      "           <ogc:BBOX>\n",
      "             <ogc:PropertyName>gsml:shape</ogc:PropertyName>\n",
      "             <gml:Envelope srsName=\"EPSG:4326\">\n",
      "               <gml:lowerCorner>{lower_corner[0]}, {lower_corner[1]}</gml:lowerCorner>\n",
      "               <gml:upperCorner>{upper_corner[0]}, {upper_corner[1]}</gml:upperCorner>\n",
      "             </gml:Envelope>\n",
      "           </ogc:BBOX>\n",
      "         </ogc:Filter>\n",
      "       </wfs:Query>\n",
      "    </wfs:GetFeature>\n",
      "\"\"\")"
     ],
     "language": "python",
     "metadata": {},
     "outputs": []
    },
    {
     "cell_type": "code",
     "collapsed": false,
     "input": [
      "wfsurl_template.format('geologicunits')"
     ],
     "language": "python",
     "metadata": {},
     "outputs": []
    },
    {
     "cell_type": "markdown",
     "metadata": {},
     "outputs": [],
     "source": [
      "Next we need to loop through and get subsequent features from the WFS"
     ]
    },
    {
     "cell_type": "code",
     "collapsed": false,
     "input": [
      "# Set some properties for the request\n",
      "params = dict(\n",
      "    lower_corner=(110.75, -20.5),\n",
      "    upper_corner=(121.75, -25.5),\n",
      "    max_features=1000)\n",
      "\n",
      "# POST to the WFS, stream the results back to file\n",
      "# for object_type in geologic_objects: \n",
      "#     response = requests.post(\n",
      "#         url=wfsurl_template.format(object_type),\n",
      "#         data=request_template.format(**params),\n",
      "#         stream=True,\n",
      "#         timeout=600)\n",
      "#     if response.status_code == 200:\n",
      "#         with open('{0}.xml'.format(object_type), 'wb') as fhandle:\n",
      "#             for chunk in response.iter_content(chunk_size=int(1e6)):\n",
      "#                 fhandle.write(chunk)\n",
      "#     else:\n",
      "#         print 'Request failed - {0}'.format(response.status_code)"
     ],
     "language": "python",
     "metadata": {},
     "outputs": []
    },
    {
     "cell_type": "markdown",
     "metadata": {},
     "outputs": [],
     "source": [
      "### Parsing the GeoSciML\n",
      "\n",
      "Add XML namespaces to current module"
     ]
    },
    {
     "cell_type": "code",
     "collapsed": false,
     "input": [
      "import xml_namespaces\n",
      "\n",
      "xml_namespaces.NamespaceRegistry()"
     ],
     "language": "python",
     "metadata": {},
     "outputs": []
    },
    {
     "cell_type": "markdown",
     "metadata": {},
     "outputs": [],
     "source": [
      "Next define a bunch of functions to unmarshal various parts of the GeoSciML MappedFeature.\n",
      "\n",
      "Elements which are not unmarshalled will just be stored as 'tag': 'text' pairs in a simple MappedFeature dictionary"
     ]
    },
    {
     "cell_type": "code",
     "collapsed": false,
     "input": [
      "class Feature(object):\n",
      "    \n",
      "    \"\"\" Simple class for storing the details of a mapped feature\n",
      "    \"\"\"\n",
      "    \n",
      "    def __init__(self, elem):\n",
      "        # Check that we actually have a mapped feature to parse\n",
      "        if split_namespace(elem.tag)[1] != 'MappedFeature':\n",
      "            raise ValueError(\"Can't initialize mapped feature \"\n",
      "                             \"from element of type {0}\".format(elem.tag))\n",
      "        \n",
      "        # Children become attributes\n",
      "        self.child_tags = []\n",
      "        for subelem in elem.iterchildren():\n",
      "            attr_name = split_namespace(subelem.tag)[1]\n",
      "            setattr(self, attr_name, process_subelement(subelem))\n",
      "            \n",
      "        # Shape gets split into projection and polygon\n",
      "        self.projection = self.shape['projection']\n",
      "        self.shape = self.shape['shape']\n",
      "    \n",
      "    def __str__(self):\n",
      "        return 'MappedFeature at {0}'.format(self.shape.representative_point())\n",
      "    \n",
      "    \n",
      "\n",
      "\n",
      "# A list of elements which can be safely collapsed in the \n",
      "# XML structure - these have only one child\n",
      "collapse_elements = (\n",
      "    'gsml:CGI_TermValue',\n",
      "    'gsml:CGI_TermRange',\n",
      "    'gsml:ControlledConcept'\n",
      ")"
     ],
     "language": "python",
     "metadata": {},
     "outputs": []
    },
    {
     "cell_type": "code",
     "collapsed": false,
     "input": [
      "from lxml import etree\n",
      "from pysiss.vocabulary.unmarshal import process_element\n",
      "from pysiss.vocabulary.utilities.xml_namespaces import expand_namespace\n",
      "\n",
      "fname = 'geologicunits.xml'\n",
      "\n",
      "with open(fname, 'rb') as xml_doc:\n",
      "    context = iter(etree.iterparse(xml_doc, events=['end'],\n",
      "                                  tag=expand_namespace('gsml:MappedFeature')))\n",
      "    for event, elem in context:\n",
      "        print process_element(elem)\n",
      "        break"
     ],
     "language": "python",
     "metadata": {},
     "outputs": []
    },
    {
     "cell_type": "code",
     "collapsed": false,
     "input": [
      "# Response file\n",
      "fname = \"response.xml\"\n",
      "\n",
      "# Sequentially parse the XML\n",
      "id_tag = expand_namespace('gml:id')\n",
      "mapped_features = []\n",
      "with open(fname, 'rb') as xml_doc:\n",
      "    context = iter(etree.iterparse(xml_doc, events=['end'],\n",
      "                                       tag=expand_namespace('gsml:MappedFeature')))\n",
      "    for event, elem in context:\n",
      "        mapped_features.append(GSMLFeature(elem))\n",
      "        elem.clear()"
     ],
     "language": "python",
     "metadata": {},
     "outputs": []
    },
    {
     "cell_type": "markdown",
     "metadata": {},
     "outputs": [],
     "source": [
      "Set up colors based on age of lithology"
     ]
    },
    {
     "cell_type": "code",
     "collapsed": false,
     "input": [
      "import brewer2mpl\n",
      "\n",
      "symbols = set()\n",
      "for feature in mapped_features:\n",
      "    try:\n",
      "        symbols.add(feature.specification['gml:id'].split('_')[-1])\n",
      "    except KeyError:\n",
      "        continue\n",
      "print symbols\n",
      "\n",
      "ages = set([s[0] for s in symbols])\n",
      "ages"
     ],
     "language": "python",
     "metadata": {},
     "outputs": []
    },
    {
     "cell_type": "code",
     "collapsed": false,
     "input": [
      "cmap = brewer2mpl.get_map('RdYlBu', 'Diverging', len(ages))\n",
      "colors = dict(zip(ages, [map(lambda c: c / 255., cs) for cs in cmap.colors]))\n",
      "\n",
      "def get_color(feature):\n",
      "    \"\"\" Get the color for a given feature based on its preferred age\n",
      "    \"\"\"\n",
      "    try:\n",
      "        age = feature.specification['gml:id'].split('_')[-1][0]\n",
      "        return colors[age]\n",
      "    except KeyError:\n",
      "        return [0.5, 0.5, 0.5, 0.7]"
     ],
     "language": "python",
     "metadata": {},
     "outputs": []
    },
    {
     "cell_type": "code",
     "collapsed": false,
     "input": [
      "from descartes.patch import PolygonPatch\n",
      "\n",
      "fig = figure(figsize=(21, 21))\n",
      "axes = gca()\n",
      "for feature in mapped_features:\n",
      "    patch = PolygonPatch(feature.shape, fc=get_color(feature), ec='black', alpha=0.8)\n",
      "    label_location = feature.shape.representative_point()\n",
      "    axes.add_patch(patch)\n",
      "#     axes.text(label_location.x, label_location.y, unit.symbol)\n",
      "axes.set_xlim(params['lower_corner'][0], params['upper_corner'][0])\n",
      "axes.set_ylim(params['upper_corner'][1], params['lower_corner'][1])\n",
      "axes.set_aspect(1)\n",
      "axes.set_axis_off()\n",
      "fig.tight_layout()\n",
      "fig.savefig('map.svg')"
     ],
     "language": "python",
     "metadata": {},
     "outputs": []
    },
    {
     "cell_type": "code",
     "collapsed": false,
     "input": [
      "spec_keys = set()\n",
      "for feature in mapped_features:\n",
      "    map(spec_keys.add, feature.specification.keys())\n",
      "spec_keys"
     ],
     "language": "python",
     "metadata": {},
     "outputs": []
    },
    {
     "cell_type": "code",
     "collapsed": false,
     "input": [
      "comps, skipped = set(), 0\n",
      "for feature in mapped_features:\n",
      "    try:\n",
      "        map(comps.add, feature.specification['gml:name'].keys())\n",
      "    except KeyError:\n",
      "        skipped += 1\n",
      "        continue\n",
      "comps, skipped"
     ],
     "language": "python",
     "metadata": {},
     "outputs": []
    },
    {
     "cell_type": "code",
     "collapsed": false,
     "input": [
      "names, skipped = set(), 0\n",
      "for feature in mapped_features:\n",
      "    try:\n",
      "        names.add(feature.specification['gml:id'])\n",
      "    except KeyError:\n",
      "        skipped += 1\n",
      "        continue\n",
      "skipped, names"
     ],
     "language": "python",
     "metadata": {},
     "outputs": []
    },
    {
     "cell_type": "code",
     "collapsed": false,
     "input": [],
     "language": "python",
     "metadata": {},
     "outputs": []
    }
   ],
   "metadata": {}
  }
 ]
}